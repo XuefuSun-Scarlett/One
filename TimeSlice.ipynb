{
 "cells": [
  {
   "cell_type": "code",
   "execution_count": null,
   "id": "5fde6e07",
   "metadata": {
    "scrolled": true
   },
   "outputs": [],
   "source": [
    "import os\n",
    "import math\n",
    "from PIL import Image\n",
    "\n",
    "\n",
    "original_dir = '/Users/Peter/Downloads/LR/'\n",
    "number_of_slices = 30\n",
    "\n",
    "def get_file_list():\n",
    "    file_list = list()\n",
    "    real_list = list()\n",
    "    for name in os.listdir(original_dir):\n",
    "        if not name.startswith('.'):\n",
    "            file_list.append(f'{original_dir}{name}')\n",
    "    file_list.sort()\n",
    "    current_img = 0\n",
    "    counter = math.floor((len(file_list) - 1)/(number_of_slices - 1))\n",
    "    for i in list(range(number_of_slices)):\n",
    "        real_list.append(file_list[current_img])\n",
    "        current_img += counter\n",
    "    return real_list\n",
    "\n",
    "def image_crop(file_list):\n",
    "    width, height = Image.open(file_list[0]).size\n",
    "    cut_threshold = round(width / number_of_slices - 0.5)\n",
    "    left = 0\n",
    "    top = 0\n",
    "    bottom = height\n",
    "    right = cut_threshold\n",
    "    i = 0\n",
    "    if os.path.exists(f'{original_dir}processed/') == False:\n",
    "        os.mkdir(f'{original_dir}processed/')\n",
    "    for each_pic in file_list:\n",
    "        pic = Image.open(each_pic)\n",
    "        image_new = pic.crop((left,top,right,bottom))\n",
    "        left += cut_threshold + 1\n",
    "        right = left + cut_threshold\n",
    "        image_new.save(f'{original_dir}processed/{i:02d}.jpg', quality = 100)\n",
    "        i += 1\n",
    "\n",
    "\n",
    "def stitcher():\n",
    "    file_list = list()\n",
    "    for name in os.listdir(f'{original_dir}Processed/'):\n",
    "        if not name.startswith('.'):\n",
    "            file_list.append(f'{original_dir}Processed/{name}')\n",
    "    file_list.sort()\n",
    "    images = [Image.open(x) for x in file_list]\n",
    "    widths, heights = zip(*(i.size for i in images))\n",
    "    total_width = sum(widths)\n",
    "    max_height = max(heights)\n",
    "    new_im = Image.new('RGB', (total_width, max_height))\n",
    "    x_offset = 1\n",
    "    for im in images:\n",
    "        new_im.paste(im, (x_offset,0))\n",
    "        x_offset += im.size[0]\n",
    "    if os.path.exists(f'{original_dir}Final/') == False:\n",
    "        os.mkdir(f'{original_dir}Final/')\n",
    "    new_im.save(f'{original_dir}Final/FinalResult.jpg', quality=100)\n",
    "\n",
    "\n",
    "def main():\n",
    "    file_list = get_file_list()\n",
    "    image_crop(file_list)\n",
    "    stitcher()\n",
    "\n",
    "\n",
    "main()"
   ]
  },
  {
   "cell_type": "code",
   "execution_count": null,
   "id": "dea1174d",
   "metadata": {},
   "outputs": [],
   "source": []
  },
  {
   "cell_type": "code",
   "execution_count": null,
   "id": "617a577d",
   "metadata": {
    "scrolled": true
   },
   "outputs": [],
   "source": []
  }
 ],
 "metadata": {
  "kernelspec": {
   "display_name": "Python 3 (ipykernel)",
   "language": "python",
   "name": "python3"
  },
  "language_info": {
   "codemirror_mode": {
    "name": "ipython",
    "version": 3
   },
   "file_extension": ".py",
   "mimetype": "text/x-python",
   "name": "python",
   "nbconvert_exporter": "python",
   "pygments_lexer": "ipython3",
   "version": "3.9.7"
  }
 },
 "nbformat": 4,
 "nbformat_minor": 5
}
